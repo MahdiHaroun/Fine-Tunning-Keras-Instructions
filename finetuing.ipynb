{
 "cells": [
  {
   "cell_type": "code",
   "execution_count": null,
   "id": "1b1510dd",
   "metadata": {},
   "outputs": [],
   "source": [
    "import os\n",
    "import transformers\n",
    "import torch\n",
    "from datasets import load_dataset\n",
    "from trl import SFTTrainer\n",
    "from peft import LoraConfig\n",
    "from transformers import AutoTokenizer, AutoModelForCausalLM\n",
    "from transformers import BitsAndBytesConfig, GemmaTokenizer"
   ]
  },
  {
   "cell_type": "code",
   "execution_count": null,
   "id": "dbdcebb3",
   "metadata": {},
   "outputs": [],
   "source": [
    "from dotenv import load_dotenv\n",
    "load_dotenv()\n",
    "os.environ[\"KAGGLE_KEY\"] = os.getenv(\"KAGGLE_KEY\")\n",
    "os.environ[\"KAGGLE_USERNAME\"] = os.getenv(\"KAGGLE_USERNAME\")\n"
   ]
  },
  {
   "cell_type": "code",
   "execution_count": null,
   "id": "53dbbda9",
   "metadata": {},
   "outputs": [],
   "source": [
    "# Configure JAX for CPU-only usage BEFORE any JAX imports\n",
    "import os\n",
    "\n",
    "# Force JAX to use CPU only\n",
    "os.environ[\"JAX_PLATFORMS\"] = \"cpu\"\n",
    "os.environ[\"JAX_ENABLE_X64\"] = \"True\"\n",
    "os.environ[\"CUDA_VISIBLE_DEVICES\"] = \"\"  # Hide CUDA devices\n",
    "os.environ[\"JAX_ENABLE_COMPILATION_CACHE\"] = \"False\"  # Disable compilation cache\n",
    "\n",
    "# Configure Keras backend\n",
    "os.environ[\"KERAS_BACKEND\"] = \"jax\"\n",
    "\n",
    "# Memory settings for JAX\n",
    "os.environ[\"XLA_PYTHON_CLIENT_MEM_FRACTION\"] = \"1.00\"\n",
    "os.environ[\"XLA_PYTHON_CLIENT_PREALLOCATE\"] = \"false\"\n",
    "\n",
    "print(\"JAX configured for CPU-only mode\")"
   ]
  },
  {
   "cell_type": "code",
   "execution_count": null,
   "id": "478c3e41",
   "metadata": {},
   "outputs": [],
   "source": [
    "# NumPy version: 1.26.4\n",
    "#SciPy version: 1.12.0\n",
    "\n",
    "import keras \n",
    "import keras_nlp\n",
    "\n"
   ]
  },
  {
   "cell_type": "code",
   "execution_count": null,
   "id": "6651956d",
   "metadata": {},
   "outputs": [],
   "source": [
    "import json \n",
    "data = []\n",
    "with open (\"data.jsonl\") as file : \n",
    "    for line in file : \n",
    "        features = json.loads(line) \n",
    "        #filter out example with context to keep it simple \n",
    "        if features['context']: \n",
    "            continue \n",
    "        # foramt the entire example as a single string \n",
    "        template = \"Intruction:\\n{instruction}\\n\\nResponse:\\n{response}\"\n",
    "        data.append(template.format(**features))\n",
    "\n",
    "#only using 1k training examp to fast purpose \n",
    "data = data[:1000]"
   ]
  },
  {
   "cell_type": "code",
   "execution_count": null,
   "id": "c51e4bbe",
   "metadata": {},
   "outputs": [],
   "source": [
    "data"
   ]
  },
  {
   "cell_type": "markdown",
   "id": "61dc079c",
   "metadata": {},
   "source": [
    "# load Model "
   ]
  },
  {
   "cell_type": "code",
   "execution_count": null,
   "id": "7a9bb5e5",
   "metadata": {},
   "outputs": [],
   "source": [
    "gpt2_lm = keras_nlp.models.GPT2CausalLM.from_preset(\"gpt2_base_en\")\n",
    "gpt2_lm.summary()"
   ]
  },
  {
   "cell_type": "code",
   "execution_count": null,
   "id": "e9b6902a",
   "metadata": {},
   "outputs": [],
   "source": [
    "prompt =  template.format(\n",
    "    instruction = \" what should i do on a trip to Europe? \" , \n",
    "    response = \"\" , \n",
    ")\n",
    "sampler = keras_nlp.samplers.TopKSampler(k =5 , seed = 2 )\n",
    "gpt2_lm.compile(sampler = sampler )\n",
    "print(gpt2_lm.generate(prompt , max_length = 256)) "
   ]
  },
  {
   "cell_type": "code",
   "execution_count": null,
   "id": "50156ecf",
   "metadata": {},
   "outputs": [],
   "source": []
  }
 ],
 "metadata": {
  "kernelspec": {
   "display_name": "venv",
   "language": "python",
   "name": "python3"
  },
  "language_info": {
   "codemirror_mode": {
    "name": "ipython",
    "version": 3
   },
   "file_extension": ".py",
   "mimetype": "text/x-python",
   "name": "python",
   "nbconvert_exporter": "python",
   "pygments_lexer": "ipython3",
   "version": "3.12.3"
  }
 },
 "nbformat": 4,
 "nbformat_minor": 5
}
